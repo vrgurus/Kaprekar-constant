{
 "cells": [
  {
   "cell_type": "code",
   "execution_count": 56,
   "metadata": {
    "collapsed": false
   },
   "outputs": [
    {
     "name": "stdout",
     "output_type": "stream",
     "text": [
      "iter: 1\n",
      "val_1: 1000\n",
      "reverse: 1\n",
      "new val_1: 999\n",
      "iter: 2\n",
      "val_1: 9990\n",
      "reverse: 999\n",
      "new val_1: 8991\n",
      "iter: 3\n",
      "val_1: 9981\n",
      "reverse: 1899\n",
      "new val_1: 8082\n",
      "iter: 4\n",
      "val_1: 8820\n",
      "reverse: 288\n",
      "new val_1: 8532\n",
      "iter: 5\n",
      "val_1: 8532\n",
      "reverse: 2358\n",
      "new val_1: 6174\n",
      "I found it in iter 5...\n"
     ]
    }
   ],
   "source": [
    "def find_kaprekar_constant_3(val):\n",
    "\n",
    "    if val < 100 or val > 9999:\n",
    "        raise ValueError ('must be between 100 and 9999')\n",
    "\n",
    "    if len(set(map(int, str(val)))) < 2:\n",
    "        raise ValueError ('at least two digits should have different')\n",
    "\n",
    "\n",
    "    val_1 = val\n",
    "\n",
    "    for i in range(1,20):\n",
    "\n",
    "        print(f'iter: {i}')\n",
    "\n",
    "        val_1 = int(\"\".join(sorted(str(val_1),reverse=True)))\n",
    "        if val >= 1000 and len(str(val_1)) == 3:\n",
    "            val_1 = val_1 * 10\n",
    "        if val < 1000 and len(str(val_1)) == 2:\n",
    "            val_1 = val_1 * 10\n",
    "\n",
    "        print(f'val_1: {val_1}')\n",
    "        val_2 = str(val_1)[::-1]\n",
    "        val_2 = int(val_2)\n",
    "            \n",
    "        print(f'reverse: {val_2}')\n",
    "\n",
    "        val_1 = abs(val_1 - val_2)\n",
    "\n",
    "        print(f'new val_1: {val_1}')\n",
    "        if val >= 1000 and val_1 == 6174:\n",
    "            print(f'I found it in iter {i}...')\n",
    "            break\n",
    "\n",
    "        if val < 1000 and val_1 == 495:\n",
    "            print(f'I found it in iter {i}...')\n",
    "            break\n",
    "\n",
    "find_kaprekar_constant_3(1000)"
   ]
  },
  {
   "cell_type": "code",
   "execution_count": 0,
   "metadata": {
    "collapsed": false
   },
   "outputs": [
   ],
   "source": [
   ]
  }
 ],
 "metadata": {
  "kernelspec": {
   "display_name": "Python 3 (system-wide)",
   "language": "python",
   "metadata": {
    "cocalc": {
     "description": "Python 3 programming language",
     "priority": 100,
     "url": "https://www.python.org/"
    }
   },
   "name": "python3",
   "resource_dir": "/ext/jupyter/kernels/python3"
  },
  "language_info": {
   "codemirror_mode": {
    "name": "ipython",
    "version": 3
   },
   "file_extension": ".py",
   "mimetype": "text/x-python",
   "name": "python",
   "nbconvert_exporter": "python",
   "pygments_lexer": "ipython3",
   "version": "3.8.10"
  }
 },
 "nbformat": 4,
 "nbformat_minor": 4
}
